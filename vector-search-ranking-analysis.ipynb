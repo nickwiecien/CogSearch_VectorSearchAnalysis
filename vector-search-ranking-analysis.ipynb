{
 "cells": [
  {
   "cell_type": "markdown",
   "metadata": {},
   "source": [
    "# Azure Cognitive Search Vector Search Code Sample - Ranking Analysis\n",
    "This code demonstrates how to use Azure Cognitive Search with OpenAI and Azure Python SDK. Further, we manually calculate vector distances between embeddings generated for user queries, and indexed document vectors.\n",
    "## Prerequisites\n",
    "To run the code, install the following packages. Please use the latest pre-release version `pip install azure-search-documents --pre`."
   ]
  },
  {
   "cell_type": "code",
   "execution_count": null,
   "metadata": {},
   "outputs": [],
   "source": [
    "! pip install azure-search-documents --pre\n",
    "! pip install openai\n",
    "! pip install python-dotenv"
   ]
  },
  {
   "cell_type": "markdown",
   "metadata": {},
   "source": [
    "## Import required libraries and environment variables"
   ]
  },
  {
   "cell_type": "code",
   "execution_count": 11,
   "metadata": {},
   "outputs": [],
   "source": [
    "# Import required libraries  \n",
    "import os  \n",
    "import json  \n",
    "import openai  \n",
    "from dotenv import load_dotenv  \n",
    "from tenacity import retry, wait_random_exponential, stop_after_attempt  \n",
    "from azure.core.credentials import AzureKeyCredential  \n",
    "from azure.search.documents import SearchClient  \n",
    "from azure.search.documents.indexes import SearchIndexClient  \n",
    "from azure.search.documents.models import Vector  \n",
    "from azure.search.documents.indexes.models import (  \n",
    "    SearchIndex,  \n",
    "    SearchField,  \n",
    "    SearchFieldDataType,  \n",
    "    SimpleField,  \n",
    "    SearchableField,  \n",
    "    SearchIndex,  \n",
    "    SemanticConfiguration,  \n",
    "    PrioritizedFields,  \n",
    "    SemanticField,  \n",
    "    SearchField,  \n",
    "    SemanticSettings,  \n",
    "    VectorSearch,  \n",
    "    HnswVectorSearchAlgorithmConfiguration,  \n",
    ")  \n",
    "  \n",
    "# Configure environment variables  \n",
    "load_dotenv()  \n",
    "service_endpoint = 'https://{YOUR-SEARCH-SERVICE}.search.windows.net' # Cognitive Search Endpoint\n",
    "index_name = '' # New Cognitive Search Index Name (for testing)\n",
    "key = '' # Cognitive Search Key\n",
    "openai.api_type = \"azure\"  \n",
    "openai.api_key = '' # Azure OpenAI Key\n",
    "openai.api_base = '' # Azure OpenAI Base\n",
    "openai.api_version = '2023-07-01-preview' # Azure OpenAI API version\n",
    "credential = AzureKeyCredential(key)\n",
    "\n",
    "os.makedirs('./output', exist_ok=True)"
   ]
  },
  {
   "cell_type": "markdown",
   "metadata": {},
   "source": [
    "## Create embeddings\n",
    "Read your data, generate OpenAI embeddings and export to a format to insert your Azure Cognitive Search index:"
   ]
  },
  {
   "cell_type": "code",
   "execution_count": 4,
   "metadata": {},
   "outputs": [
    {
     "name": "stdout",
     "output_type": "stream",
     "text": [
      "108\n",
      "Azure App Service\n",
      "Azure Functions\n",
      "Azure Cognitive Services\n",
      "Azure Storage\n",
      "Azure SQL Database\n",
      "Azure Cosmos DB\n",
      "Azure Kubernetes Service (AKS)\n",
      "Azure Virtual Machines\n",
      "Azure DevOps\n",
      "Azure IoT Hub\n",
      "Azure Machine Learning\n",
      "Azure Databricks\n",
      "Azure Active Directory\n",
      "Azure Logic Apps\n",
      "Azure Event Hubs\n",
      "Azure API Management\n",
      "Azure Data Factory\n",
      "Azure Synapse Analytics\n",
      "Azure Batch\n",
      "Azure CDN\n",
      "Azure ExpressRoute\n",
      "Azure Traffic Manager\n",
      "Azure Virtual Network\n",
      "Azure Firewall\n",
      "Azure Private Link\n",
      "Azure Site Recovery\n",
      "Azure Backup\n",
      "Azure Service Bus\n",
      "Azure Stream Analytics\n",
      "Azure Notification Hubs\n",
      "Azure Mobile Apps\n",
      "Azure Time Series Insights\n",
      "Azure Digital Twins\n",
      "Azure Data Explorer\n",
      "Azure Data Catalog\n",
      "Azure Data Lake Storage\n",
      "Azure Data Lake Analytics\n",
      "Azure Bastion\n",
      "Azure Media Services\n",
      "Azure Cognitive Search\n",
      "Azure Key Vault\n",
      "Azure Monitor\n",
      "Azure DDoS Protection\n",
      "Azure Application Gateway\n",
      "Azure VPN Gateway\n",
      "Azure HDInsight\n",
      "Azure Power BI Embedded\n",
      "Azure Managed Disks\n",
      "Azure Cache for Redis\n",
      "Azure Blob Storage\n",
      "Azure File Storage\n",
      "Azure Table Storage\n",
      "Azure Queue Storage\n",
      "Azure Data Box\n",
      "Azure Import/Export\n",
      "Azure Front Door\n",
      "Azure Service Fabric\n",
      "Azure Reserved VM Instances\n",
      "Azure Policy\n",
      "Azure Security Center\n",
      "Azure Private DNS\n",
      "Azure DevTest Labs\n",
      "Azure Functions\n",
      "Azure SignalR Service\n",
      "Azure Blockchain Service\n",
      "Azure Database for MySQL\n",
      "Azure Database for PostgreSQL\n",
      "Azure Database for MariaDB\n",
      "Azure SQL Managed Instance\n",
      "Azure Cosmos DB\n",
      "Azure SQL Data Warehouse\n",
      "Azure Application Insights\n",
      "Azure Log Analytics\n",
      "Azure IoT Central\n",
      "Azure Sphere\n",
      "Azure IoT Edge\n",
      "Azure Migrate\n",
      "Azure Database Migration Service\n",
      "Azure Blueprints\n",
      "Azure Kubernetes Service (AKS)\n",
      "Azure Container Instances\n",
      "Azure Container Registry\n",
      "Azure Databricks\n",
      "Azure Event Grid\n",
      "Azure Cost Management\n",
      "Azure App Configuration\n",
      "Azure Static Web Apps\n",
      "Azure Lighthouse\n",
      "Azure Machine Learning\n",
      "Azure Cognitive Services\n",
      "Azure Bot Service\n",
      "Azure Batch AI\n",
      "Azure Maps\n",
      "Azure API for FHIR\n",
      "Azure HPC Cache\n",
      "Azure Quantum\n",
      "Azure Data Share\n",
      "Azure Stack Hub\n",
      "Azure Stack Edge\n",
      "Azure Active Directory\n",
      "Azure ExpressRoute\n",
      "Azure Private Link\n",
      "Azure Virtual WAN\n",
      "Azure Site Recovery\n",
      "Azure Web PubSub\n",
      "Azure Data Factory\n",
      "Azure Data Bricks\n",
      "Azure Bastion\n"
     ]
    }
   ],
   "source": [
    "# Generate Document Embeddings using OpenAI Ada 002\n",
    "import time\n",
    "\n",
    "# Read the text-sample.json\n",
    "with open('./text-sample.json', 'r', encoding='utf-8') as file:\n",
    "    input_data = json.load(file)\n",
    "\n",
    "@retry(wait=wait_random_exponential(min=1, max=20), stop=stop_after_attempt(6))\n",
    "# Function to generate embeddings for title and content fields, also used for query embeddings\n",
    "def generate_embeddings(text):\n",
    "    response = openai.Embedding.create(\n",
    "        input=text, engine=\"text-embedding-ada-002\")\n",
    "    embeddings = response['data'][0]['embedding']\n",
    "    return embeddings\n",
    "\n",
    "\n",
    "# Generate embeddings for title and content fields\n",
    "print(len(input_data))\n",
    "for item in input_data:\n",
    "    title = item['title']\n",
    "    content = item['content']\n",
    "    title_embeddings = generate_embeddings(title)\n",
    "    time.sleep(.5)\n",
    "    content_embeddings = generate_embeddings(content)\n",
    "    item['titleVector'] = title_embeddings\n",
    "    item['contentVector'] = content_embeddings\n",
    "    time.sleep(.5)\n",
    "    print(title)\n",
    "\n",
    "# Output embeddings to docVectors.json file\n",
    "with open(\"./output/docVectors.json\", \"w\") as f:\n",
    "    json.dump(input_data, f)"
   ]
  },
  {
   "cell_type": "markdown",
   "metadata": {},
   "source": [
    "## Create your search index\n",
    "Create your search index schema and vector search configuration.\n",
    "\n",
    "NOTE: Here we are not using any additional semantic configuration, only vector lookup to validate efficacy of system in returning documents in the correct order based on vector similarity."
   ]
  },
  {
   "cell_type": "code",
   "execution_count": 12,
   "metadata": {},
   "outputs": [
    {
     "name": "stdout",
     "output_type": "stream",
     "text": [
      " scoring-test-index created\n"
     ]
    }
   ],
   "source": [
    "# Create a search index\n",
    "index_client = SearchIndexClient(\n",
    "    endpoint=service_endpoint, credential=credential)\n",
    "fields = [\n",
    "    SimpleField(name=\"id\", type=SearchFieldDataType.String, key=True, sortable=True, filterable=True, facetable=True),\n",
    "    SearchableField(name=\"title\", type=SearchFieldDataType.String),\n",
    "    SearchableField(name=\"content\", type=SearchFieldDataType.String),\n",
    "    SearchableField(name=\"category\", type=SearchFieldDataType.String,\n",
    "                    filterable=True),\n",
    "    SearchField(name=\"titleVector\", type=SearchFieldDataType.Collection(SearchFieldDataType.Single),\n",
    "                searchable=True, vector_search_dimensions=1536, vector_search_configuration=\"my-vector-config\"),\n",
    "    SearchField(name=\"contentVector\", type=SearchFieldDataType.Collection(SearchFieldDataType.Single),\n",
    "                searchable=True, vector_search_dimensions=1536, vector_search_configuration=\"my-vector-config\"),\n",
    "]\n",
    "\n",
    "# Omitting \"metric\" under HnswVectorSearchAlgorithmConfiguration parameters to confirm \n",
    "vector_search = VectorSearch(\n",
    "    algorithm_configurations=[\n",
    "        HnswVectorSearchAlgorithmConfiguration(\n",
    "            name=\"my-vector-config\",\n",
    "            kind=\"hnsw\",\n",
    "            parameters={\n",
    "                \"m\": 4,\n",
    "                \"efConstruction\": 400,\n",
    "                \"efSearch\": 500,\n",
    "            }\n",
    "        )\n",
    "    ]\n",
    ")\n",
    "\n",
    "# Create the search index with the semantic settings\n",
    "index = SearchIndex(name=index_name, fields=fields,\n",
    "                    vector_search=vector_search)\n",
    "result = index_client.create_or_update_index(index)\n",
    "print(f' {result.name} created')\n"
   ]
  },
  {
   "cell_type": "markdown",
   "metadata": {},
   "source": [
    "## Insert text and embeddings into vector store\n",
    "Add texts and metadata from the JSON data to the vector store:"
   ]
  },
  {
   "cell_type": "code",
   "execution_count": 13,
   "metadata": {},
   "outputs": [
    {
     "name": "stdout",
     "output_type": "stream",
     "text": [
      "Uploaded 108 documents\n"
     ]
    }
   ],
   "source": [
    "# Upload some documents to the index\n",
    "with open('./output/docVectors.json', 'r') as file:  \n",
    "    documents = json.load(file)  \n",
    "search_client = SearchClient(endpoint=service_endpoint, index_name=index_name, credential=credential)\n",
    "result = search_client.upload_documents(documents)  \n",
    "print(f\"Uploaded {len(documents)} documents\") "
   ]
  },
  {
   "cell_type": "markdown",
   "metadata": {},
   "source": [
    "## Perform a vector similarity search"
   ]
  },
  {
   "cell_type": "code",
   "execution_count": 24,
   "metadata": {},
   "outputs": [
    {
     "name": "stdout",
     "output_type": "stream",
     "text": [
      "Azure DevOps\n",
      "Azure DevTest Labs\n",
      "Azure Application Insights\n",
      "Azure App Service\n",
      "Azure Static Web Apps\n",
      "Azure Mobile Apps\n",
      "Azure API Management\n",
      "Azure Logic Apps\n",
      "Azure Service Fabric\n",
      "Azure Machine Learning\n",
      "Azure Quantum\n",
      "Azure Sphere\n",
      "Azure Data Factory\n",
      "Azure Virtual Machines\n",
      "Azure Blueprints\n",
      "Azure Maps\n",
      "Azure SignalR Service\n",
      "Azure Functions\n",
      "Azure App Configuration\n",
      "Azure Cognitive Services\n"
     ]
    }
   ],
   "source": [
    "import numpy as np\n",
    "\n",
    "# Pure Vector Search\n",
    "query = \"tools for software development\"  \n",
    "  \n",
    "search_client = SearchClient(service_endpoint, index_name, credential=credential)\n",
    "\n",
    "vector = Vector(value=generate_embeddings(query), k=20, fields=\"contentVector\")\n",
    "\n",
    "results = search_client.search(  \n",
    "            search_text=None,  \n",
    "            vectors= [vector],\n",
    "            select=[\"title\", \"content\", \"category\", \"contentVector\"],\n",
    "        )  \n",
    "for res in results:\n",
    "    print(res['title'])"
   ]
  },
  {
   "cell_type": "markdown",
   "metadata": {},
   "source": [
    "Metrics for calculating distances between vectors adapted from notebook @ https://github.com/Azure/cognitive-search-vector-pr/blob/main/demo-python/code/azure-search-vector-recall-python-sample.ipynb"
   ]
  },
  {
   "cell_type": "code",
   "execution_count": 27,
   "metadata": {},
   "outputs": [],
   "source": [
    "from scipy.spatial.distance import cdist\n",
    "\n",
    "search_embeddings = generate_embeddings(query)\n",
    "\n",
    "results = search_client.search(  \n",
    "            search_text=None,  \n",
    "            vectors= [vector],\n",
    "            select=[\"title\", \"content\", \"category\", \"contentVector\"],\n",
    "        )  \n",
    "\n",
    "def calculate_query_response_distance(vector1, vector2, metric):\n",
    "    return float(cdist(vector1, vector2, metric=metric)[0])\n",
    "\n",
    "distances = []\n",
    "\n",
    "for res in results:\n",
    "    distance = calculate_query_response_distance([search_embeddings], [res['contentVector']], 'cosine')\n",
    "    distances.append(distance)"
   ]
  },
  {
   "cell_type": "markdown",
   "metadata": {},
   "source": [
    "Plot distance of top 20 returned document vectors to vector generated from user query text"
   ]
  },
  {
   "cell_type": "code",
   "execution_count": 26,
   "metadata": {},
   "outputs": [
    {
     "data": {
      "image/png": "[encoded data removed]",
      "text/plain": [
       "<Figure size 640x480 with 1 Axes>"
      ]
     },
     "metadata": {},
     "output_type": "display_data"
    }
   ],
   "source": [
    "import matplotlib.pyplot as plt\n",
    "import numpy as np\n",
    "\n",
    "\n",
    "# Create an array of indices from 1 to n, where n is the length of values\n",
    "indices = np.arange(1, len(distances) + 1)\n",
    "\n",
    "# Plot the line with markers using the plot function\n",
    "# You can specify the marker style, color, size, etc. using keyword arguments\n",
    "# For a list of possible marker styles, see [Marker reference](https://matplotlib.org/stable/gallery/lines_bars_and_markers/marker_reference.html)\n",
    "plt.plot(indices, distances, marker='o', color='blue', markersize=10)\n",
    "\n",
    "# Set the axis labels and title using the xlabel, ylabel and title functions\n",
    "plt.xlabel('Cog Search Document Rank')\n",
    "plt.ylabel('Cosine Distance')\n",
    "plt.title('Cognitive Search (Vector Search) Ranking Analysis')\n",
    "\n",
    "# Show the plot using the show function\n",
    "plt.show()"
   ]
  }
 ],
 "metadata": {
  "kernelspec": {
   "display_name": "Python 3.8 - AzureML",
   "language": "python",
   "name": "python38-azureml"
  },
  "language_info": {
   "codemirror_mode": {
    "name": "ipython",
    "version": 3
   },
   "file_extension": ".py",
   "mimetype": "text/x-python",
   "name": "python",
   "nbconvert_exporter": "python",
   "pygments_lexer": "ipython3",
   "version": "3.8.5"
  }
 },
 "nbformat": 4,
 "nbformat_minor": 4
}
